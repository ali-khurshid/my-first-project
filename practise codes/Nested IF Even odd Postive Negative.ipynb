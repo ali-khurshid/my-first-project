{
 "cells": [
  {
   "cell_type": "code",
   "execution_count": 19,
   "id": "c575b4c1",
   "metadata": {},
   "outputs": [
    {
     "name": "stdout",
     "output_type": "stream",
     "text": [
      "The number is negative and odd\n"
     ]
    }
   ],
   "source": [
    "# Use the already defined variable 'number'\n",
    "number = int(input(\"Enter a number: \"))\n",
    "if number > 0:\n",
    "    if number % 2 == 0:\n",
    "        print(\"The number is positive and even\")\n",
    "    else:\n",
    "        print(\"The number is positive and odd\")\n",
    "elif number < 0:\n",
    "    if number % 2 == 0:\n",
    "        print(\"The number is negative and even\")\n",
    "    else:\n",
    "        print(\"The number is negative and odd\")\n",
    "elif number == 0:\n",
    "    print(\"The number is zero\")"
   ]
  }
 ],
 "metadata": {
  "kernelspec": {
   "display_name": "Python 3",
   "language": "python",
   "name": "python3"
  },
  "language_info": {
   "codemirror_mode": {
    "name": "ipython",
    "version": 3
   },
   "file_extension": ".py",
   "mimetype": "text/x-python",
   "name": "python",
   "nbconvert_exporter": "python",
   "pygments_lexer": "ipython3",
   "version": "3.12.8"
  }
 },
 "nbformat": 4,
 "nbformat_minor": 5
}
