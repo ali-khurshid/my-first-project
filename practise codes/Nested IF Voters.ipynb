{
 "cells": [
  {
   "cell_type": "code",
   "execution_count": 20,
   "id": "ea72673e",
   "metadata": {},
   "outputs": [
    {
     "name": "stdout",
     "output_type": "stream",
     "text": [
      "Eligible to vote in the UK\n",
      "Elgible to vote but not in the UK\n",
      "Not elgible to vote anywhere\n"
     ]
    }
   ],
   "source": [
    "def voter(age,country):\n",
    "    if age >= int(18):\n",
    "        if country == \"UK\":\n",
    "            print(\"Eligible to vote in the UK\")\n",
    "        else:\n",
    "            print(\"Elgible to vote but not in the UK\")\n",
    "    else:\n",
    "        print(\"Not elgible to vote anywhere\")\n",
    "\n",
    "voter(20,\"UK\")\n",
    "voter(50,\"USA\")\n",
    "voter(10,\"UK\")"
   ]
  }
 ],
 "metadata": {
  "kernelspec": {
   "display_name": "Python 3",
   "language": "python",
   "name": "python3"
  },
  "language_info": {
   "codemirror_mode": {
    "name": "ipython",
    "version": 3
   },
   "file_extension": ".py",
   "mimetype": "text/x-python",
   "name": "python",
   "nbconvert_exporter": "python",
   "pygments_lexer": "ipython3",
   "version": "3.12.8"
  }
 },
 "nbformat": 4,
 "nbformat_minor": 5
}
